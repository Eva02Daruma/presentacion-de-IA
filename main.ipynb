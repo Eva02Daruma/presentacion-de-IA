{
 "cells": [
  {
   "cell_type": "markdown",
   "metadata": {},
   "source": [
    " ## Proyecto de presentacion de Inteligencia Artificial\n",
    "\n",
    "<u>Nombre del Estudiante </u> :  José Araya Prohens     \n",
    "\n",
    "<u>Rut </u> :  20.444.205 - 3\n",
    "\n",
    "<u>**Mi tema**</u>:         \n",
    "Recomendaciones de animes de la plataforma de streaming crunchyroll    \n",
    "\n",
    "<u>**Mi csv**</u>: \n",
    " Es un dataset de los shows disponibles en la plataforma de streaming de pago llamado crunchyroll , este dataset posee más de 1000 filas de datos , estos datos fueron adqueridos del servicio en mayo 2022 de Estados Unidos       [fuente de Kaggle](https://www.kaggle.com/datasets/victorsoeiro/crunchyroll-animes-and-movies?select=titles.csv)     \n",
    "\n",
    "<u>**Mi propuesta**</u>:    \n",
    "Analizar los datos de manera que puedas predecir un tiulo recomendado a partir de un genero que te gusta o un titulo que ya viste.  \n",
    "\n",
    "<u>**Modelo que se piensa implementar**</u>: \n",
    " Arboles de Decision   \n",
    "    \n",
    "<u>**Objetivo** </u> :           \n",
    "\n",
    "\n",
    "\n",
    "\n",
    "### Imports"
   ]
  },
  {
   "cell_type": "code",
   "execution_count": 11,
   "metadata": {},
   "outputs": [],
   "source": [
    "import numpy as np\n",
    "import pandas as pd\n",
    "import matplotlib as plt\n",
    "\n",
    "from rich import print\n",
    "from rich import pretty\n",
    "pretty.install()\n",
    "%load_ext rich"
   ]
  },
  {
   "cell_type": "markdown",
   "metadata": {},
   "source": [
    "### Instrucciones del profesor\n",
    "Estimado alumnos:\n",
    "\n",
    "Este es un recordatorio para el trabajo de presentacion.\n",
    "\n",
    "CONDICIONES:\n",
    "Basado en la busqueda personal anunciada en clases de un dataset a su interes. Debe generar un estudio sobre dicho\n",
    "dataset. El estudio es de caracter indagatorio, en el cual se evaluaran las siguientes cosas:\n",
    "\n",
    "1. Uso y manejo de las herramientas de manipulacion de datos (DataFrame) (10%)\n",
    "2. Propuesta y desarrollo de indicadores estadisticos con algun fin que estime pertinente (20%)\n",
    "3. Muestra de graficos (con matplotlib BIEN HECHOS) , con el fin de plantear alguna problematica/propuesta u otro, el cual le parece adecuado mostrar. (30%)\n",
    "4. Uso de algun modelo predictivo aprendido durante el curos, sea, KMeans, algun regresor linea o arboles (otros modelos que usted estudie, son permitidos)(30%)\n",
    "5. Muestra de resultados, y analisis del modelo encontrando, con foco en su precision predictiva y overfit (si applica) (10%)\n",
    "NOTA:\n",
    "Recuerde que puede usar cualquer recurso mostrado en el curso, si usa otro modelo, debe explicar el nuevo modelo. Si\n",
    "considera necesario usar PCA, HAGALO!\n",
    "\n",
    "El Profe!"
   ]
  },
  {
   "cell_type": "code",
   "execution_count": 4,
   "metadata": {},
   "outputs": [],
   "source": [
    "titulos = pd.read_csv(\"csv/titles.csv\")\n",
    "creditos = pd.read_csv(\"csv/credits.csv\")"
   ]
  },
  {
   "cell_type": "markdown",
   "metadata": {},
   "source": [
    "primero vamos a definir que variables no importan para este trabajo"
   ]
  },
  {
   "cell_type": "code",
   "execution_count": 7,
   "metadata": {},
   "outputs": [
    {
     "data": {
      "text/html": [
       "<div>\n",
       "<style scoped>\n",
       "    .dataframe tbody tr th:only-of-type {\n",
       "        vertical-align: middle;\n",
       "    }\n",
       "\n",
       "    .dataframe tbody tr th {\n",
       "        vertical-align: top;\n",
       "    }\n",
       "\n",
       "    .dataframe thead th {\n",
       "        text-align: right;\n",
       "    }\n",
       "</style>\n",
       "<table border=\"1\" class=\"dataframe\">\n",
       "  <thead>\n",
       "    <tr style=\"text-align: right;\">\n",
       "      <th></th>\n",
       "      <th>title</th>\n",
       "      <th>type</th>\n",
       "      <th>description</th>\n",
       "      <th>release_year</th>\n",
       "      <th>age_certification</th>\n",
       "      <th>runtime</th>\n",
       "      <th>genres</th>\n",
       "      <th>seasons</th>\n",
       "      <th>imdb_score</th>\n",
       "      <th>imdb_votes</th>\n",
       "      <th>tmdb_popularity</th>\n",
       "      <th>tmdb_score</th>\n",
       "    </tr>\n",
       "  </thead>\n",
       "  <tbody>\n",
       "    <tr>\n",
       "      <th>0</th>\n",
       "      <td>Lupin the Third</td>\n",
       "      <td>SHOW</td>\n",
       "      <td>Arsene Lupin III is the grandson of the master...</td>\n",
       "      <td>1971</td>\n",
       "      <td>TV-14</td>\n",
       "      <td>23</td>\n",
       "      <td>['scifi', 'animation', 'action', 'comedy', 'cr...</td>\n",
       "      <td>6.0</td>\n",
       "      <td>7.9</td>\n",
       "      <td>2116.0</td>\n",
       "      <td>45.829</td>\n",
       "      <td>8.0</td>\n",
       "    </tr>\n",
       "    <tr>\n",
       "      <th>1</th>\n",
       "      <td>Mobile Suit Gundam</td>\n",
       "      <td>SHOW</td>\n",
       "      <td>Mobile Suit Gundam is a televised anime series...</td>\n",
       "      <td>1979</td>\n",
       "      <td>TV-Y7</td>\n",
       "      <td>25</td>\n",
       "      <td>['scifi', 'war', 'animation', 'action', 'drama...</td>\n",
       "      <td>1.0</td>\n",
       "      <td>7.9</td>\n",
       "      <td>2281.0</td>\n",
       "      <td>41.250</td>\n",
       "      <td>8.1</td>\n",
       "    </tr>\n",
       "    <tr>\n",
       "      <th>2</th>\n",
       "      <td>Galaxy Express 999</td>\n",
       "      <td>SHOW</td>\n",
       "      <td>Galaxy Express 999 is a manga written and draw...</td>\n",
       "      <td>1978</td>\n",
       "      <td>TV-PG</td>\n",
       "      <td>24</td>\n",
       "      <td>['scifi', 'action', 'drama', 'animation']</td>\n",
       "      <td>1.0</td>\n",
       "      <td>7.8</td>\n",
       "      <td>459.0</td>\n",
       "      <td>5.064</td>\n",
       "      <td>8.3</td>\n",
       "    </tr>\n",
       "    <tr>\n",
       "      <th>3</th>\n",
       "      <td>Lupin the 3rd</td>\n",
       "      <td>SHOW</td>\n",
       "      <td>The master thief Lupin III and his cronies con...</td>\n",
       "      <td>1977</td>\n",
       "      <td>TV-14</td>\n",
       "      <td>24</td>\n",
       "      <td>['scifi', 'animation', 'action', 'comedy', 'cr...</td>\n",
       "      <td>4.0</td>\n",
       "      <td>8.0</td>\n",
       "      <td>1738.0</td>\n",
       "      <td>0.600</td>\n",
       "      <td>NaN</td>\n",
       "    </tr>\n",
       "    <tr>\n",
       "      <th>4</th>\n",
       "      <td>Chōdenji Machine Voltes V</td>\n",
       "      <td>SHOW</td>\n",
       "      <td>Chōdenji Machine Voltes V is a Japanese anime ...</td>\n",
       "      <td>1977</td>\n",
       "      <td>TV-PG</td>\n",
       "      <td>24</td>\n",
       "      <td>['drama', 'action', 'scifi', 'animation']</td>\n",
       "      <td>1.0</td>\n",
       "      <td>8.1</td>\n",
       "      <td>207.0</td>\n",
       "      <td>12.625</td>\n",
       "      <td>7.3</td>\n",
       "    </tr>\n",
       "  </tbody>\n",
       "</table>\n",
       "</div>"
      ],
      "text/plain": [
       "                       title  type  \\\n",
       "0            Lupin the Third  SHOW   \n",
       "1         Mobile Suit Gundam  SHOW   \n",
       "2         Galaxy Express 999  SHOW   \n",
       "3              Lupin the 3rd  SHOW   \n",
       "4  Chōdenji Machine Voltes V  SHOW   \n",
       "\n",
       "                                         description  release_year  \\\n",
       "0  Arsene Lupin III is the grandson of the master...          1971   \n",
       "1  Mobile Suit Gundam is a televised anime series...          1979   \n",
       "2  Galaxy Express 999 is a manga written and draw...          1978   \n",
       "3  The master thief Lupin III and his cronies con...          1977   \n",
       "4  Chōdenji Machine Voltes V is a Japanese anime ...          1977   \n",
       "\n",
       "  age_certification  runtime  \\\n",
       "0             TV-14       23   \n",
       "1             TV-Y7       25   \n",
       "2             TV-PG       24   \n",
       "3             TV-14       24   \n",
       "4             TV-PG       24   \n",
       "\n",
       "                                              genres  seasons  imdb_score  \\\n",
       "0  ['scifi', 'animation', 'action', 'comedy', 'cr...      6.0         7.9   \n",
       "1  ['scifi', 'war', 'animation', 'action', 'drama...      1.0         7.9   \n",
       "2          ['scifi', 'action', 'drama', 'animation']      1.0         7.8   \n",
       "3  ['scifi', 'animation', 'action', 'comedy', 'cr...      4.0         8.0   \n",
       "4          ['drama', 'action', 'scifi', 'animation']      1.0         8.1   \n",
       "\n",
       "   imdb_votes  tmdb_popularity  tmdb_score  \n",
       "0      2116.0           45.829         8.0  \n",
       "1      2281.0           41.250         8.1  \n",
       "2       459.0            5.064         8.3  \n",
       "3      1738.0            0.600         NaN  \n",
       "4       207.0           12.625         7.3  "
      ]
     },
     "execution_count": 7,
     "metadata": {},
     "output_type": "execute_result"
    }
   ],
   "source": [
    "titulos = titulos[['title','type','description','release_year','age_certification','runtime','genres','seasons','imdb_score','imdb_votes','tmdb_popularity','tmdb_score']]\n",
    "titulos.head()"
   ]
  },
  {
   "cell_type": "code",
   "execution_count": 8,
   "metadata": {},
   "outputs": [
    {
     "data": {
      "text/plain": [
       "(1081, 12)"
      ]
     },
     "execution_count": 8,
     "metadata": {},
     "output_type": "execute_result"
    }
   ],
   "source": [
    "titulos.shape"
   ]
  },
  {
   "cell_type": "markdown",
   "metadata": {},
   "source": [
    "tenemos 1081 filas de datos "
   ]
  }
 ],
 "metadata": {
  "kernelspec": {
   "display_name": "Python 3.10.4 64-bit",
   "language": "python",
   "name": "python3"
  },
  "language_info": {
   "codemirror_mode": {
    "name": "ipython",
    "version": 3
   },
   "file_extension": ".py",
   "mimetype": "text/x-python",
   "name": "python",
   "nbconvert_exporter": "python",
   "pygments_lexer": "ipython3",
   "version": "3.10.4"
  },
  "orig_nbformat": 4,
  "vscode": {
   "interpreter": {
    "hash": "aee8b7b246df8f9039afb4144a1f6fd8d2ca17a180786b69acc140d282b71a49"
   }
  }
 },
 "nbformat": 4,
 "nbformat_minor": 2
}
